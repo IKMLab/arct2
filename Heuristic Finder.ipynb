{
 "cells": [
  {
   "cell_type": "markdown",
   "metadata": {},
   "source": [
    "The goal here is to look for the patterns holding over claims and warrants in the `neg` set that explain the performance. This should hopefully inform how to resolve those patterns. Although it is likely there are a collection of smallish heuristics and that the only way to eliminate them is to make all claims appear with each warrant they are compared to once - i.e. once correctly with the warrant, and once with the alternative. I'm not sure how to effect that."
   ]
  },
  {
   "cell_type": "code",
   "execution_count": 37,
   "metadata": {},
   "outputs": [],
   "source": [
    "from nltk import tokenize\n",
    "from scipy import stats\n",
    "\n",
    "from arct import data"
   ]
  },
  {
   "cell_type": "code",
   "execution_count": 15,
   "metadata": {},
   "outputs": [],
   "source": [
    "train_orig = data.load('train-original')\n",
    "train_neg = data.load('train-adv-negated')\n",
    "train_swap = data.load('train-adv-swapped')"
   ]
  },
  {
   "cell_type": "code",
   "execution_count": 36,
   "metadata": {},
   "outputs": [],
   "source": [
    "preds_orig = data.preds('bert_base')\n",
    "preds_neg = data.preds('bert_base_adv_neg')"
   ]
  },
  {
   "cell_type": "code",
   "execution_count": 54,
   "metadata": {},
   "outputs": [],
   "source": [
    "class Heuristic:\n",
    "    \n",
    "    def corr(self, df, preds):\n",
    "        appl = []\n",
    "        prod = []\n",
    "        prob = []\n",
    "        for _, x in df.iterrows():\n",
    "            _appl, _prod = self.assess(x)\n",
    "            _prob = preds[preds['id'] == x['#id']].mean()['correct']\n",
    "            appl.append(_appl)\n",
    "            prod.append(_prod)            \n",
    "            prob.append(_prob)\n",
    "        c, p = stats.pearsonr(prod, prob)\n",
    "        print('Correlation with productive cases: %4.3f (%4.3f)' % (c, p))\n",
    "    \n",
    "    @staticmethod\n",
    "    def has_not(sent):\n",
    "        toks = tokenize.word_tokenize(sent)\n",
    "        return 'not' in toks or \"n't\" in toks\n",
    "    \n",
    "    def prod_cov(self, df):\n",
    "        n = len(df)\n",
    "        applicable = 0\n",
    "        predictive = 0\n",
    "        for _, x in df.iterrows():\n",
    "            _applicable, _predictive = self.assess(x)\n",
    "            applicable += _applicable\n",
    "            predictive += _predictive\n",
    "        productivity = round(predictive / applicable, 3)\n",
    "        coverage = round(applicable / n, 3)\n",
    "        print('-' * 8)\n",
    "        print('Productivity: %s' % productivity)\n",
    "        print('Coverage: %s' % coverage)\n",
    "    \n",
    "    def assess(self, x):\n",
    "        raise NotImplementedError"
   ]
  },
  {
   "cell_type": "code",
   "execution_count": 55,
   "metadata": {},
   "outputs": [],
   "source": [
    "class AbsenceOfNot(Heuristic):\n",
    "    \n",
    "    def assess(self, x):\n",
    "        if self.has_not(x.claim):\n",
    "            return False, False\n",
    "        if self.has_not(x.warrant0):\n",
    "            return True, x.correctLabelW0orW1\n",
    "        if self.has_not(x.warrant1):\n",
    "            return True, not x.correctLabelW0orW1\n",
    "        return False, False"
   ]
  },
  {
   "cell_type": "code",
   "execution_count": 56,
   "metadata": {},
   "outputs": [
    {
     "name": "stdout",
     "output_type": "stream",
     "text": [
      "--------\n",
      "Productivity: 0.323\n",
      "Coverage: 0.44\n",
      "Correlation with productive cases: -0.555 (0.000)\n",
      "--------\n",
      "Productivity: 0.464\n",
      "Coverage: 0.348\n",
      "Correlation with productive cases: 0.110 (0.000)\n",
      "--------\n",
      "Productivity: 0.325\n",
      "Coverage: 0.44\n"
     ]
    }
   ],
   "source": [
    "aon = AbsenceOfNot()\n",
    "aon.prod_cov(train_orig)\n",
    "aon.corr(train_orig, preds_orig)\n",
    "aon.prod_cov(train_neg)\n",
    "aon.corr(train_neg, preds_neg)\n",
    "aon.prod_cov(train_swap)"
   ]
  },
  {
   "cell_type": "markdown",
   "metadata": {},
   "source": [
    "This is a great one. It says that the opposite of this heuristic is very productive, and indeed latched onto in the original dataset. That the heuristic is far less sensitive is good for the adv_neg set."
   ]
  },
  {
   "cell_type": "code",
   "execution_count": 40,
   "metadata": {},
   "outputs": [],
   "source": [
    "class PresenceOfNot(Heuristic):\n",
    "    \n",
    "    def assess(self, x):\n",
    "        if not self.has_not(x.claim):\n",
    "            return False, False\n",
    "        if self.has_not(x.warrant0):\n",
    "            return True, not x.correctLabelW0orW1\n",
    "        if self.has_not(x.warrant1):\n",
    "            return True, x.correctLabelW0orW1\n",
    "        return False, False"
   ]
  },
  {
   "cell_type": "code",
   "execution_count": 42,
   "metadata": {},
   "outputs": [
    {
     "name": "stdout",
     "output_type": "stream",
     "text": [
      "--------\n",
      "Productivity: 0.718\n",
      "Coverage: 0.252\n",
      "Correlation with productive cases: 0.349 (0.000)\n",
      "--------\n",
      "Productivity: 0.463\n",
      "Coverage: 0.344\n",
      "Correlation with productive cases: -0.121 (0.000)\n",
      "--------\n",
      "Productivity: 0.716\n",
      "Coverage: 0.252\n"
     ]
    }
   ],
   "source": [
    "pon = PresenceOfNot()\n",
    "pon.prod_cov(train_orig)\n",
    "pon.corr(train_orig, preds_orig)\n",
    "pon.prod_cov(train_neg)\n",
    "pon.corr(train_neg, preds_neg)\n",
    "pon.prod_cov(train_swap)"
   ]
  },
  {
   "cell_type": "code",
   "execution_count": 45,
   "metadata": {},
   "outputs": [],
   "source": [
    "class OppositeNot(Heuristic):\n",
    "    \n",
    "    def assess(self, x):\n",
    "        if not self.has_not(x.claim):\n",
    "            if self.has_not(x.warrant0):\n",
    "                return True, not x.correctLabelW0orW1\n",
    "            if self.has_not(x.warrant1):\n",
    "                return True, x.correctLabelW0orW1\n",
    "            return False, False\n",
    "        else:  # claim has not\n",
    "            if self.has_not(x.warrant0):\n",
    "                return True, x.correctLabelW0orW1\n",
    "            if self.has_not(x.warrant1):\n",
    "                return True, not x.correctLabelW0orW1\n",
    "            return False, False"
   ]
  },
  {
   "cell_type": "code",
   "execution_count": 50,
   "metadata": {},
   "outputs": [
    {
     "name": "stdout",
     "output_type": "stream",
     "text": [
      "--------\n",
      "Productivity: 0.533\n",
      "Coverage: 0.693\n",
      "Correlation with productive cases: 0.217 (0.000)\n",
      "--------\n",
      "Productivity: 0.536\n",
      "Coverage: 0.693\n",
      "Correlation with productive cases: 0.052 (0.010)\n",
      "--------\n",
      "Productivity: 0.533\n",
      "Coverage: 0.693\n"
     ]
    }
   ],
   "source": [
    "on = OppositeNot()\n",
    "on.prod_cov(train_orig)\n",
    "on.corr(train_orig, preds_orig)\n",
    "on.prod_cov(train_neg)\n",
    "on.corr(train_neg, preds_neg)\n",
    "on.prod_cov(train_swap)"
   ]
  },
  {
   "cell_type": "code",
   "execution_count": 48,
   "metadata": {},
   "outputs": [],
   "source": [
    "class MatchingNot(Heuristic):\n",
    "    \n",
    "    def assess(self, x):\n",
    "        if self.has_not(x.claim):\n",
    "            if self.has_not(x.warrant0):\n",
    "                return True, not x.correctLabelW0orW1\n",
    "            if self.has_not(x.warrant1):\n",
    "                return True, x.correctLabelW0orW1\n",
    "            return False, False\n",
    "        else:  # claim has not not\n",
    "            if self.has_not(x.warrant0):\n",
    "                return True, x.correctLabelW0orW1\n",
    "            if self.has_not(x.warrant1):\n",
    "                return True, not x.correctLabelW0orW1\n",
    "            return False, False"
   ]
  },
  {
   "cell_type": "code",
   "execution_count": 49,
   "metadata": {},
   "outputs": [
    {
     "name": "stdout",
     "output_type": "stream",
     "text": [
      "--------\n",
      "Productivity: 0.467\n",
      "Coverage: 0.693\n",
      "Correlation with productive cases: -0.128 (0.000)\n",
      "--------\n",
      "Productivity: 0.464\n",
      "Coverage: 0.693\n",
      "Correlation with productive cases: -0.008 (0.681)\n",
      "--------\n",
      "Productivity: 0.467\n",
      "Coverage: 0.693\n"
     ]
    }
   ],
   "source": [
    "mn = MatchingNot()\n",
    "mn.prod_cov(train_orig)\n",
    "mn.corr(train_orig, preds_orig)\n",
    "mn.prod_cov(train_neg)\n",
    "mn.corr(train_neg, preds_neg)\n",
    "mn.prod_cov(train_swap)"
   ]
  },
  {
   "cell_type": "code",
   "execution_count": null,
   "metadata": {},
   "outputs": [],
   "source": []
  }
 ],
 "metadata": {
  "kernelspec": {
   "display_name": "nn",
   "language": "python",
   "name": "nn"
  },
  "language_info": {
   "codemirror_mode": {
    "name": "ipython",
    "version": 3
   },
   "file_extension": ".py",
   "mimetype": "text/x-python",
   "name": "python",
   "nbconvert_exporter": "python",
   "pygments_lexer": "ipython3",
   "version": "3.7.2"
  }
 },
 "nbformat": 4,
 "nbformat_minor": 2
}
