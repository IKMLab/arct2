{
 "cells": [
  {
   "cell_type": "code",
   "execution_count": 1,
   "metadata": {},
   "outputs": [],
   "source": [
    "import matplotlib.pyplot as plt\n",
    "from nltk import tokenize\n",
    "import numpy as np\n",
    "import pandas as pd\n",
    "import seaborn as sns; sns.set()\n",
    "\n",
    "from arct import data, cues"
   ]
  },
  {
   "cell_type": "code",
   "execution_count": 45,
   "metadata": {},
   "outputs": [],
   "source": [
    "train_n = data.load('train-adv-negated')\n",
    "train_o = data.load('train-original')\n",
    "train_s = data.load('train-swapped')\n",
    "train_ns = data.load('train-adv-negated-swapped')\n",
    "\n",
    "dev = data.load('dev-adv-negated')\n",
    "test = data.load('test-adv-negated')"
   ]
  },
  {
   "cell_type": "markdown",
   "metadata": {},
   "source": [
    "## Confirm Warrant Bias in Original"
   ]
  },
  {
   "cell_type": "code",
   "execution_count": 134,
   "metadata": {},
   "outputs": [
    {
     "data": {
      "application/vnd.jupyter.widget-view+json": {
       "model_id": "306b81d46a5a4d9e9de6f8ffe60cd6a2",
       "version_major": 2,
       "version_minor": 0
      },
      "text/plain": [
       "HBox(children=(IntProgress(value=0, description='counts', max=1210, style=ProgressStyle(description_width='ini…"
      ]
     },
     "metadata": {},
     "output_type": "display_data"
    },
    {
     "name": "stdout",
     "output_type": "stream",
     "text": [
      "\n"
     ]
    },
    {
     "data": {
      "application/vnd.jupyter.widget-view+json": {
       "model_id": "6e31eb8bc44c41009078dd9d88c5d8ff",
       "version_major": 2,
       "version_minor": 0
      },
      "text/plain": [
       "HBox(children=(IntProgress(value=0, description='pmi', max=3737, style=ProgressStyle(description_width='initia…"
      ]
     },
     "metadata": {},
     "output_type": "display_data"
    },
    {
     "name": "stdout",
     "output_type": "stream",
     "text": [
      "\n",
      "--------\n",
      "PMI for label: correct\n",
      "--------\n",
      "Min:      -0.14499031042859406\n",
      "Mean:     -0.00025472083468017074\n",
      "Std:      0.011200062121140612\n",
      "Median:   0.0\n",
      "Max:      0.2836546807817987\n",
      "Sum (>0): 5.621051398137933\n",
      "--------\n",
      "1\t0.284\tnot\n",
      "2\t0.226\tn't\n",
      "3\t0.204\tca\n",
      "4\t0.124\tdoes\n",
      "5\t0.115\tdo\n",
      "6\t0.099\two\n",
      "7\t0.092\talways\n",
      "8\t0.071\trarely\n",
      "9\t0.069\tless\n",
      "10\t0.056\tprovide\n"
     ]
    }
   ],
   "source": [
    "f = cues.PMIw()\n",
    "c, p = f(train_o, 'correct')"
   ]
  },
  {
   "cell_type": "markdown",
   "metadata": {},
   "source": [
    "## Confirm Negated Set Eliminates That"
   ]
  },
  {
   "cell_type": "code",
   "execution_count": 83,
   "metadata": {},
   "outputs": [
    {
     "data": {
      "application/vnd.jupyter.widget-view+json": {
       "model_id": "f0776feec79445c28dc4bfb41bff6bbf",
       "version_major": 2,
       "version_minor": 0
      },
      "text/plain": [
       "HBox(children=(IntProgress(value=0, description='counts', max=2420, style=ProgressStyle(description_width='ini…"
      ]
     },
     "metadata": {},
     "output_type": "display_data"
    },
    {
     "name": "stdout",
     "output_type": "stream",
     "text": [
      "\n"
     ]
    },
    {
     "data": {
      "application/vnd.jupyter.widget-view+json": {
       "model_id": "60119438fe1f4e4babca229b5b8d96a6",
       "version_major": 2,
       "version_minor": 0
      },
      "text/plain": [
       "HBox(children=(IntProgress(value=0, description='pmi', max=3737, style=ProgressStyle(description_width='initia…"
      ]
     },
     "metadata": {},
     "output_type": "display_data"
    },
    {
     "name": "stdout",
     "output_type": "stream",
     "text": [
      "\n",
      "--------\n",
      "PMI for label: correct\n",
      "--------\n",
      "Min:      0.0\n",
      "Mean:     0.0\n",
      "Std:      0.0\n",
      "Median:   0.0\n",
      "Max:      0.0\n",
      "Sum (>0): 0.0\n",
      "--------\n",
      "1\t0.000\tindependence\n",
      "2\t0.000\tpursuit\n",
      "3\t0.000\ttrading\n",
      "4\t0.000\tcity-bound\n",
      "5\t0.000\tplanet\n",
      "6\t0.000\tdvd\n",
      "7\t0.000\tschooled\n",
      "8\t0.000\tteaches\n",
      "9\t0.000\tcountry\n",
      "10\t0.000\tsaid\n"
     ]
    }
   ],
   "source": [
    "f = cues.PMIw()\n",
    "c, p = f(train_n)"
   ]
  },
  {
   "cell_type": "markdown",
   "metadata": {},
   "source": [
    "## Check out Claim Only Cues in Original"
   ]
  },
  {
   "cell_type": "code",
   "execution_count": 139,
   "metadata": {},
   "outputs": [
    {
     "data": {
      "application/vnd.jupyter.widget-view+json": {
       "model_id": "147338e46a5246f1bcbe8fea23e8aa39",
       "version_major": 2,
       "version_minor": 0
      },
      "text/plain": [
       "HBox(children=(IntProgress(value=0, description='counts', max=1210, style=ProgressStyle(description_width='ini…"
      ]
     },
     "metadata": {},
     "output_type": "display_data"
    },
    {
     "name": "stdout",
     "output_type": "stream",
     "text": [
      "\n"
     ]
    },
    {
     "data": {
      "application/vnd.jupyter.widget-view+json": {
       "model_id": "1382548a7bc84b3fbc48cb736cb5a4e7",
       "version_major": 2,
       "version_minor": 0
      },
      "text/plain": [
       "HBox(children=(IntProgress(value=0, description='pmi', max=3737, style=ProgressStyle(description_width='initia…"
      ]
     },
     "metadata": {},
     "output_type": "display_data"
    },
    {
     "name": "stdout",
     "output_type": "stream",
     "text": [
      "\n",
      "--------\n",
      "PMI for label: 1\n",
      "--------\n",
      "Min:      -0.0779615414697118\n",
      "Mean:     0.0001820677138200357\n",
      "Std:      0.008503636249582449\n",
      "Median:   0.0\n",
      "Max:      0.12619460256066833\n",
      "Sum (>0): 4.216897815735679\n",
      "--------\n",
      "1\t0.126\tlibraries\n",
      "2\t0.094\tof\n",
      "3\t0.069\tmore\n",
      "4\t0.065\ta\n",
      "5\t0.065\tmuch\n",
      "6\t0.065\tgamble\n",
      "7\t0.065\tcasinos\n",
      "8\t0.062\tare\n",
      "9\t0.061\tcalifornia\n",
      "10\t0.061\trail\n"
     ]
    }
   ],
   "source": [
    "f = cues.PMIc()\n",
    "c, p = f(train_o, '1')"
   ]
  },
  {
   "cell_type": "markdown",
   "metadata": {},
   "source": [
    "## Compare to Claim Only Cues in Negated"
   ]
  },
  {
   "cell_type": "code",
   "execution_count": 138,
   "metadata": {},
   "outputs": [
    {
     "data": {
      "application/vnd.jupyter.widget-view+json": {
       "model_id": "e3ede52526384828914ff5df116233a3",
       "version_major": 2,
       "version_minor": 0
      },
      "text/plain": [
       "HBox(children=(IntProgress(value=0, description='counts', max=2420, style=ProgressStyle(description_width='ini…"
      ]
     },
     "metadata": {},
     "output_type": "display_data"
    },
    {
     "name": "stdout",
     "output_type": "stream",
     "text": [
      "\n"
     ]
    },
    {
     "data": {
      "application/vnd.jupyter.widget-view+json": {
       "model_id": "512c8c15b46b4e4d930338435bdc77a1",
       "version_major": 2,
       "version_minor": 0
      },
      "text/plain": [
       "HBox(children=(IntProgress(value=0, description='pmi', max=3737, style=ProgressStyle(description_width='initia…"
      ]
     },
     "metadata": {},
     "output_type": "display_data"
    },
    {
     "name": "stdout",
     "output_type": "stream",
     "text": [
      "\n",
      "--------\n",
      "PMI for label: 1\n",
      "--------\n",
      "Min:      -0.06094601021708007\n",
      "Mean:     -3.389216917354374e-05\n",
      "Std:      0.002110267031075341\n",
      "Median:   0.0\n",
      "Max:      0.044059989794030495\n",
      "Sum (>0): 0.18746764137573385\n",
      "--------\n",
      "1\t0.044\tneeds\n",
      "2\t0.036\tca\n",
      "3\t0.020\tprotect\n",
      "4\t0.018\twill\n",
      "5\t0.013\tbad\n",
      "6\t0.010\tno\n",
      "7\t0.010\tleads\n",
      "8\t0.009\tmatters\n",
      "9\t0.009\tinvade\n",
      "10\t0.009\texploits\n"
     ]
    }
   ],
   "source": [
    "f = cues.PMIc()\n",
    "c, p = f(train_n, '1')"
   ]
  },
  {
   "cell_type": "markdown",
   "metadata": {},
   "source": [
    "The signal may be weaker... but need to fix the evaluation first."
   ]
  },
  {
   "cell_type": "markdown",
   "metadata": {},
   "source": [
    "## Check Swapped Eliminates Claim Only Cues"
   ]
  },
  {
   "cell_type": "code",
   "execution_count": 131,
   "metadata": {},
   "outputs": [
    {
     "data": {
      "application/vnd.jupyter.widget-view+json": {
       "model_id": "1c02be968de74b5baeb8c958a1140444",
       "version_major": 2,
       "version_minor": 0
      },
      "text/plain": [
       "HBox(children=(IntProgress(value=0, description='counts', max=2420, style=ProgressStyle(description_width='ini…"
      ]
     },
     "metadata": {},
     "output_type": "display_data"
    },
    {
     "name": "stdout",
     "output_type": "stream",
     "text": [
      "\n"
     ]
    },
    {
     "data": {
      "application/vnd.jupyter.widget-view+json": {
       "model_id": "7e3a30f408db4fbab93c4d95d3282ce0",
       "version_major": 2,
       "version_minor": 0
      },
      "text/plain": [
       "HBox(children=(IntProgress(value=0, description='pmi', max=3737, style=ProgressStyle(description_width='initia…"
      ]
     },
     "metadata": {},
     "output_type": "display_data"
    },
    {
     "name": "stdout",
     "output_type": "stream",
     "text": [
      "\n",
      "--------\n",
      "PMI for label: 1\n",
      "--------\n",
      "Min:      0.0\n",
      "Mean:     0.0\n",
      "Std:      0.0\n",
      "Median:   0.0\n",
      "Max:      0.0\n",
      "Sum (>0): 0.0\n",
      "--------\n",
      "1\t0.000\tindependence\n",
      "2\t0.000\tpursuit\n",
      "3\t0.000\ttrading\n",
      "4\t0.000\tcity-bound\n",
      "5\t0.000\tplanet\n",
      "6\t0.000\tdvd\n",
      "7\t0.000\tschooled\n",
      "8\t0.000\tteaches\n",
      "9\t0.000\tcountry\n",
      "10\t0.000\tsaid\n"
     ]
    }
   ],
   "source": [
    "f = cues.PMIc()\n",
    "c, p = f(train_s, '1')"
   ]
  },
  {
   "cell_type": "markdown",
   "metadata": {},
   "source": [
    "OK, that's interesting, in this setup, with the claims only, I need to look at class 0 and class 1, not correct, it tells the story I have been hoping for.\n",
    "\n",
    "So, do I need to look at an absolute value difference of the difference between the PMI of the two labels? Something is not quite right. I should be able to figure it out..."
   ]
  },
  {
   "cell_type": "markdown",
   "metadata": {},
   "source": [
    "## Check the Situation with Negated and Swapped"
   ]
  },
  {
   "cell_type": "code",
   "execution_count": 143,
   "metadata": {},
   "outputs": [
    {
     "data": {
      "application/vnd.jupyter.widget-view+json": {
       "model_id": "a424495a322244fa9e8ad16cf6e347e4",
       "version_major": 2,
       "version_minor": 0
      },
      "text/plain": [
       "HBox(children=(IntProgress(value=0, description='counts', max=4840, style=ProgressStyle(description_width='ini…"
      ]
     },
     "metadata": {},
     "output_type": "display_data"
    },
    {
     "name": "stdout",
     "output_type": "stream",
     "text": [
      "\n"
     ]
    },
    {
     "data": {
      "application/vnd.jupyter.widget-view+json": {
       "model_id": "31345cfce8854c50b100b401bf1c58cd",
       "version_major": 2,
       "version_minor": 0
      },
      "text/plain": [
       "HBox(children=(IntProgress(value=0, description='pmi', max=3737, style=ProgressStyle(description_width='initia…"
      ]
     },
     "metadata": {},
     "output_type": "display_data"
    },
    {
     "name": "stdout",
     "output_type": "stream",
     "text": [
      "\n",
      "--------\n",
      "PMI for label: correct\n",
      "--------\n",
      "Min:      0.0\n",
      "Mean:     0.0\n",
      "Std:      0.0\n",
      "Median:   0.0\n",
      "Max:      0.0\n",
      "Sum (>0): 0.0\n",
      "--------\n",
      "1\t0.000\tindependence\n",
      "2\t0.000\tpursuit\n",
      "3\t0.000\ttrading\n",
      "4\t0.000\tcity-bound\n",
      "5\t0.000\tplanet\n",
      "6\t0.000\tdvd\n",
      "7\t0.000\tschooled\n",
      "8\t0.000\tteaches\n",
      "9\t0.000\tcountry\n",
      "10\t0.000\tsaid\n"
     ]
    }
   ],
   "source": [
    "f = cues.PMIc()\n",
    "c, p = f(train_ns, 'correct')"
   ]
  },
  {
   "cell_type": "markdown",
   "metadata": {},
   "source": [
    "By this calculation, it looks to be eliminated here... Let's go right on and check claims and warrants."
   ]
  },
  {
   "cell_type": "markdown",
   "metadata": {},
   "source": [
    "## Claims and Warrants in Original"
   ]
  },
  {
   "cell_type": "code",
   "execution_count": 146,
   "metadata": {},
   "outputs": [
    {
     "data": {
      "application/vnd.jupyter.widget-view+json": {
       "model_id": "e6588e8ebe8b4611babaf7223f9bf54d",
       "version_major": 2,
       "version_minor": 0
      },
      "text/plain": [
       "HBox(children=(IntProgress(value=0, description='counts', max=1210, style=ProgressStyle(description_width='ini…"
      ]
     },
     "metadata": {},
     "output_type": "display_data"
    },
    {
     "name": "stdout",
     "output_type": "stream",
     "text": [
      "\n"
     ]
    },
    {
     "data": {
      "application/vnd.jupyter.widget-view+json": {
       "model_id": "b3c5258472d947b0a6725cb5563f9fbf",
       "version_major": 2,
       "version_minor": 0
      },
      "text/plain": [
       "HBox(children=(IntProgress(value=0, description='pmi', max=3737, style=ProgressStyle(description_width='initia…"
      ]
     },
     "metadata": {},
     "output_type": "display_data"
    },
    {
     "name": "stdout",
     "output_type": "stream",
     "text": [
      "\n",
      "--------\n",
      "PMI for label: correct\n",
      "--------\n",
      "Min:      -0.13889776257198963\n",
      "Mean:     -0.0003305234150950986\n",
      "Std:      0.009521078424642294\n",
      "Median:   0.0\n",
      "Max:      0.1823215567939546\n",
      "Sum (>0): 5.068324098098297\n",
      "--------\n",
      "1\t0.182\tca\n",
      "2\t0.166\tn't\n",
      "3\t0.115\tdoes\n",
      "4\t0.101\tnot\n",
      "5\t0.099\two\n",
      "6\t0.092\talways\n",
      "7\t0.071\trarely\n",
      "8\t0.068\tless\n",
      "9\t0.067\tdo\n",
      "10\t0.056\tprovide\n"
     ]
    }
   ],
   "source": [
    "f = cues.PMIcw()\n",
    "c, p = f(train_o)"
   ]
  },
  {
   "cell_type": "markdown",
   "metadata": {},
   "source": [
    "## Claims-Warrants for Swapped"
   ]
  },
  {
   "cell_type": "code",
   "execution_count": 147,
   "metadata": {},
   "outputs": [
    {
     "data": {
      "application/vnd.jupyter.widget-view+json": {
       "model_id": "85d381d756c2430b95752c7d6e19c39e",
       "version_major": 2,
       "version_minor": 0
      },
      "text/plain": [
       "HBox(children=(IntProgress(value=0, description='counts', max=2420, style=ProgressStyle(description_width='ini…"
      ]
     },
     "metadata": {},
     "output_type": "display_data"
    },
    {
     "name": "stdout",
     "output_type": "stream",
     "text": [
      "\n"
     ]
    },
    {
     "data": {
      "application/vnd.jupyter.widget-view+json": {
       "model_id": "5f18dce1ee11446fa9fa2bfc1b0c0dc4",
       "version_major": 2,
       "version_minor": 0
      },
      "text/plain": [
       "HBox(children=(IntProgress(value=0, description='pmi', max=3737, style=ProgressStyle(description_width='initia…"
      ]
     },
     "metadata": {},
     "output_type": "display_data"
    },
    {
     "name": "stdout",
     "output_type": "stream",
     "text": [
      "\n",
      "--------\n",
      "PMI for label: correct\n",
      "--------\n",
      "Min:      -0.1865859555804122\n",
      "Mean:     -0.0006617838654538578\n",
      "Std:      0.015194018922301314\n",
      "Median:   0.0\n",
      "Max:      0.2468600779315258\n",
      "Sum (>0): 8.861485035742113\n",
      "--------\n",
      "1\t0.247\tca\n",
      "2\t0.179\tn't\n",
      "3\t0.154\two\n",
      "4\t0.150\tdoes\n",
      "5\t0.136\talways\n",
      "6\t0.129\trarely\n",
      "7\t0.105\tnot\n",
      "8\t0.103\tless\n",
      "9\t0.094\tprovide\n",
      "10\t0.085\tfew\n"
     ]
    }
   ],
   "source": [
    "f = cues.PMIcw()\n",
    "c, p = f(train_s)"
   ]
  },
  {
   "cell_type": "markdown",
   "metadata": {},
   "source": [
    "Same signal, amplified, as expected."
   ]
  },
  {
   "cell_type": "markdown",
   "metadata": {},
   "source": [
    "## Claims-Warrants for Negated"
   ]
  },
  {
   "cell_type": "code",
   "execution_count": 151,
   "metadata": {},
   "outputs": [
    {
     "data": {
      "application/vnd.jupyter.widget-view+json": {
       "model_id": "bf61cbf026eb407285d4ea3d5e54ed0f",
       "version_major": 2,
       "version_minor": 0
      },
      "text/plain": [
       "HBox(children=(IntProgress(value=0, description='counts', max=2420, style=ProgressStyle(description_width='ini…"
      ]
     },
     "metadata": {},
     "output_type": "display_data"
    },
    {
     "name": "stdout",
     "output_type": "stream",
     "text": [
      "\n"
     ]
    },
    {
     "data": {
      "application/vnd.jupyter.widget-view+json": {
       "model_id": "cd206eca55eb4674910ba7b3b387114a",
       "version_major": 2,
       "version_minor": 0
      },
      "text/plain": [
       "HBox(children=(IntProgress(value=0, description='pmi', max=3737, style=ProgressStyle(description_width='initia…"
      ]
     },
     "metadata": {},
     "output_type": "display_data"
    },
    {
     "name": "stdout",
     "output_type": "stream",
     "text": [
      "\n",
      "--------\n",
      "PMI for label: correct\n",
      "--------\n",
      "Min:      -0.01726807763208015\n",
      "Mean:     4.2282587570611855e-06\n",
      "Std:      0.00044537729997025485\n",
      "Median:   0.0\n",
      "Max:      0.01542102299481364\n",
      "Sum (>0): 0.03900381612703238\n",
      "--------\n",
      "1\t0.01542\tnot\n",
      "2\t0.00901\tdoes\n",
      "3\t0.00784\tprotects\n",
      "4\t0.00491\tprotect\n",
      "5\t0.00182\tdo\n",
      "6\t0.00000\tindependence\n",
      "7\t0.00000\tpursuit\n",
      "8\t0.00000\ttrading\n",
      "9\t0.00000\tcity-bound\n",
      "10\t0.00000\tplanet\n"
     ]
    }
   ],
   "source": [
    "f = cues.PMIcw()\n",
    "c, p = f(train_n)"
   ]
  },
  {
   "cell_type": "markdown",
   "metadata": {},
   "source": [
    "A weak signal, as expected."
   ]
  },
  {
   "cell_type": "markdown",
   "metadata": {},
   "source": [
    "## Claims-Warrants for Swapped-Negated"
   ]
  },
  {
   "cell_type": "code",
   "execution_count": 150,
   "metadata": {},
   "outputs": [
    {
     "data": {
      "application/vnd.jupyter.widget-view+json": {
       "model_id": "47504152c27b4b4db42d3d258af48b88",
       "version_major": 2,
       "version_minor": 0
      },
      "text/plain": [
       "HBox(children=(IntProgress(value=0, description='counts', max=4840, style=ProgressStyle(description_width='ini…"
      ]
     },
     "metadata": {},
     "output_type": "display_data"
    },
    {
     "name": "stdout",
     "output_type": "stream",
     "text": [
      "\n"
     ]
    },
    {
     "data": {
      "application/vnd.jupyter.widget-view+json": {
       "model_id": "42e17a276c854bcbb8511e11806492c8",
       "version_major": 2,
       "version_minor": 0
      },
      "text/plain": [
       "HBox(children=(IntProgress(value=0, description='pmi', max=3737, style=ProgressStyle(description_width='initia…"
      ]
     },
     "metadata": {},
     "output_type": "display_data"
    },
    {
     "name": "stdout",
     "output_type": "stream",
     "text": [
      "\n",
      "--------\n",
      "PMI for label: correct\n",
      "--------\n",
      "Min:      -0.018192047987278113\n",
      "Mean:     5.492751601984709e-06\n",
      "Std:      0.0005078112257271341\n",
      "Median:   0.0\n",
      "Max:      0.01568392190255414\n",
      "Sum (>0): 0.04715732936975957\n",
      "--------\n",
      "1\t0.01568\tnot\n",
      "2\t0.01290\tprotects\n",
      "3\t0.01015\tdoes\n",
      "4\t0.00651\tprotect\n",
      "5\t0.00190\tdo\n",
      "6\t0.00000\tindependence\n",
      "7\t0.00000\tpursuit\n",
      "8\t0.00000\ttrading\n",
      "9\t0.00000\tcity-bound\n",
      "10\t0.00000\tplanet\n"
     ]
    }
   ],
   "source": [
    "f = cues.PMIcw()\n",
    "c, p = f(train_ns)"
   ]
  },
  {
   "cell_type": "markdown",
   "metadata": {},
   "source": [
    "Ah yes, amplifies the claim-warrant cues, as I expected. At least these results apt with my intuitions."
   ]
  },
  {
   "cell_type": "code",
   "execution_count": null,
   "metadata": {},
   "outputs": [],
   "source": []
  },
  {
   "cell_type": "code",
   "execution_count": null,
   "metadata": {},
   "outputs": [],
   "source": []
  },
  {
   "cell_type": "code",
   "execution_count": null,
   "metadata": {},
   "outputs": [],
   "source": []
  },
  {
   "cell_type": "code",
   "execution_count": null,
   "metadata": {},
   "outputs": [],
   "source": []
  },
  {
   "cell_type": "code",
   "execution_count": null,
   "metadata": {},
   "outputs": [],
   "source": []
  },
  {
   "cell_type": "code",
   "execution_count": 105,
   "metadata": {},
   "outputs": [
    {
     "data": {
      "text/plain": [
       "373"
      ]
     },
     "execution_count": 105,
     "metadata": {},
     "output_type": "execute_result"
    }
   ],
   "source": [
    "c['0_correct']['not']"
   ]
  },
  {
   "cell_type": "code",
   "execution_count": 106,
   "metadata": {},
   "outputs": [
    {
     "data": {
      "text/plain": [
       "373"
      ]
     },
     "execution_count": 106,
     "metadata": {},
     "output_type": "execute_result"
    }
   ],
   "source": [
    "c['1_correct']['not']"
   ]
  },
  {
   "cell_type": "code",
   "execution_count": 107,
   "metadata": {},
   "outputs": [
    {
     "data": {
      "text/plain": [
       "373"
      ]
     },
     "execution_count": 107,
     "metadata": {},
     "output_type": "execute_result"
    }
   ],
   "source": [
    "c['0']['not']"
   ]
  },
  {
   "cell_type": "code",
   "execution_count": 108,
   "metadata": {},
   "outputs": [
    {
     "data": {
      "text/plain": [
       "373"
      ]
     },
     "execution_count": 108,
     "metadata": {},
     "output_type": "execute_result"
    }
   ],
   "source": [
    "c['1']['not']"
   ]
  },
  {
   "cell_type": "code",
   "execution_count": 109,
   "metadata": {},
   "outputs": [
    {
     "data": {
      "text/plain": [
       "746"
      ]
     },
     "execution_count": 109,
     "metadata": {},
     "output_type": "execute_result"
    }
   ],
   "source": [
    "c['correct']['not']"
   ]
  },
  {
   "cell_type": "code",
   "execution_count": 110,
   "metadata": {},
   "outputs": [
    {
     "data": {
      "text/plain": [
       "2420"
      ]
     },
     "execution_count": 110,
     "metadata": {},
     "output_type": "execute_result"
    }
   ],
   "source": [
    "len(train_s)"
   ]
  },
  {
   "cell_type": "code",
   "execution_count": 111,
   "metadata": {},
   "outputs": [
    {
     "data": {
      "text/plain": [
       "0.3082644628099174"
      ]
     },
     "execution_count": 111,
     "metadata": {},
     "output_type": "execute_result"
    }
   ],
   "source": [
    "746/2420"
   ]
  },
  {
   "cell_type": "code",
   "execution_count": 82,
   "metadata": {},
   "outputs": [
    {
     "data": {
      "text/plain": [
       "0.5814239711142903"
      ]
     },
     "execution_count": 82,
     "metadata": {},
     "output_type": "execute_result"
    }
   ],
   "source": [
    "import math\n",
    "math.log((2 * 373 + 100) /\n",
    "         (373 + 100))"
   ]
  },
  {
   "cell_type": "code",
   "execution_count": 120,
   "metadata": {
    "scrolled": true
   },
   "outputs": [
    {
     "data": {
      "application/vnd.jupyter.widget-view+json": {
       "model_id": "31b596f8b21d48dabfa88289fbd75cfc",
       "version_major": 2,
       "version_minor": 0
      },
      "text/plain": [
       "HBox(children=(IntProgress(value=0, description='data point', max=2420, style=ProgressStyle(description_width=…"
      ]
     },
     "metadata": {},
     "output_type": "display_data"
    },
    {
     "name": "stdout",
     "output_type": "stream",
     "text": [
      "\n",
      "746\n",
      "746\n",
      "--------\n",
      "Productivity: 1.0\n",
      "Coverage:     0.308\n"
     ]
    }
   ],
   "source": [
    "g = cues.TokenInClaim('not')\n",
    "g(train_s)"
   ]
  },
  {
   "cell_type": "code",
   "execution_count": 123,
   "metadata": {},
   "outputs": [
    {
     "name": "stdout",
     "output_type": "stream",
     "text": [
      "746\n",
      "0.3082644628099174\n",
      "0.1541322314049587\n",
      "0.1541322314049587\n"
     ]
    }
   ],
   "source": [
    "from nltk import tokenize as tk\n",
    "\n",
    "c = 0\n",
    "w0 = 0\n",
    "w1 = 0\n",
    "for _, x in train_s.iterrows():\n",
    "    tt = tk.word_tokenize(x.claim)\n",
    "    tt = [t.lower() for t in tt]\n",
    "    if 'not' in tt:\n",
    "        c += 1\n",
    "        if x.correctLabelW0orW1:\n",
    "            w1 += 1\n",
    "        else:\n",
    "            w0 +=1\n",
    "print(c)\n",
    "print(c / len(train_s))\n",
    "print(w0 / len(train_s))\n",
    "print(w1 / len(train_s))"
   ]
  },
  {
   "cell_type": "code",
   "execution_count": 122,
   "metadata": {
    "scrolled": true
   },
   "outputs": [
    {
     "data": {
      "text/plain": [
       "0.3082644628099174"
      ]
     },
     "execution_count": 122,
     "metadata": {},
     "output_type": "execute_result"
    }
   ],
   "source": [
    "746 / 2420"
   ]
  },
  {
   "cell_type": "code",
   "execution_count": null,
   "metadata": {},
   "outputs": [],
   "source": []
  },
  {
   "cell_type": "code",
   "execution_count": null,
   "metadata": {},
   "outputs": [],
   "source": []
  },
  {
   "cell_type": "code",
   "execution_count": 152,
   "metadata": {},
   "outputs": [
    {
     "data": {
      "application/vnd.jupyter.widget-view+json": {
       "model_id": "67a9b37fd4c649088475ee796218e341",
       "version_major": 2,
       "version_minor": 0
      },
      "text/plain": [
       "HBox(children=(IntProgress(value=0, description='data point', max=1210, style=ProgressStyle(description_width=…"
      ]
     },
     "metadata": {},
     "output_type": "display_data"
    },
    {
     "name": "stdout",
     "output_type": "stream",
     "text": [
      "\n",
      "154\n",
      "122\n",
      "--------\n",
      "Productivity: 0.792\n",
      "Coverage:     0.127\n"
     ]
    }
   ],
   "source": [
    "g = cues.TokenInClaimAndWarrant('not')\n",
    "g(train_o)"
   ]
  },
  {
   "cell_type": "code",
   "execution_count": 154,
   "metadata": {},
   "outputs": [
    {
     "data": {
      "application/vnd.jupyter.widget-view+json": {
       "model_id": "e600f65ac72f4c1aae555eaab8d77b2f",
       "version_major": 2,
       "version_minor": 0
      },
      "text/plain": [
       "HBox(children=(IntProgress(value=0, description='data point', max=2420, style=ProgressStyle(description_width=…"
      ]
     },
     "metadata": {},
     "output_type": "display_data"
    },
    {
     "name": "stdout",
     "output_type": "stream",
     "text": [
      "\n",
      "308\n",
      "244\n",
      "--------\n",
      "Productivity: 0.792\n",
      "Coverage:     0.127\n"
     ]
    }
   ],
   "source": [
    "g = cues.TokenInClaimAndWarrant('not')\n",
    "g(train_s)"
   ]
  },
  {
   "cell_type": "code",
   "execution_count": 155,
   "metadata": {},
   "outputs": [
    {
     "data": {
      "application/vnd.jupyter.widget-view+json": {
       "model_id": "1eebbb5c011c4a86b16c6030ec435d19",
       "version_major": 2,
       "version_minor": 0
      },
      "text/plain": [
       "HBox(children=(IntProgress(value=0, description='data point', max=2420, style=ProgressStyle(description_width=…"
      ]
     },
     "metadata": {},
     "output_type": "display_data"
    },
    {
     "name": "stdout",
     "output_type": "stream",
     "text": [
      "\n",
      "467\n",
      "227\n",
      "--------\n",
      "Productivity: 0.486\n",
      "Coverage:     0.193\n"
     ]
    }
   ],
   "source": [
    "g = cues.TokenInClaimAndWarrant('not')\n",
    "g(train_n)"
   ]
  },
  {
   "cell_type": "code",
   "execution_count": 156,
   "metadata": {},
   "outputs": [
    {
     "data": {
      "application/vnd.jupyter.widget-view+json": {
       "model_id": "7b761a8fa23b4e79985281d77da2cbd1",
       "version_major": 2,
       "version_minor": 0
      },
      "text/plain": [
       "HBox(children=(IntProgress(value=0, description='data point', max=4840, style=ProgressStyle(description_width=…"
      ]
     },
     "metadata": {},
     "output_type": "display_data"
    },
    {
     "name": "stdout",
     "output_type": "stream",
     "text": [
      "\n",
      "934\n",
      "454\n",
      "--------\n",
      "Productivity: 0.486\n",
      "Coverage:     0.193\n"
     ]
    }
   ],
   "source": [
    "g = cues.TokenInClaimAndWarrant('not')\n",
    "g(train_ns)"
   ]
  },
  {
   "cell_type": "code",
   "execution_count": null,
   "metadata": {},
   "outputs": [],
   "source": []
  },
  {
   "cell_type": "code",
   "execution_count": null,
   "metadata": {},
   "outputs": [],
   "source": []
  },
  {
   "cell_type": "code",
   "execution_count": null,
   "metadata": {},
   "outputs": [],
   "source": []
  },
  {
   "cell_type": "code",
   "execution_count": null,
   "metadata": {},
   "outputs": [],
   "source": []
  },
  {
   "cell_type": "code",
   "execution_count": 162,
   "metadata": {},
   "outputs": [
    {
     "data": {
      "application/vnd.jupyter.widget-view+json": {
       "model_id": "798e141bed5c4cfdbe98db0cf9dec122",
       "version_major": 2,
       "version_minor": 0
      },
      "text/plain": [
       "HBox(children=(IntProgress(value=0, description='data point', max=1210, style=ProgressStyle(description_width=…"
      ]
     },
     "metadata": {},
     "output_type": "display_data"
    },
    {
     "name": "stdout",
     "output_type": "stream",
     "text": [
      "\n",
      "--------\n",
      "Productivity: 0.792\n",
      "Coverage:     0.127\n"
     ]
    },
    {
     "data": {
      "application/vnd.jupyter.widget-view+json": {
       "model_id": "df9158522e654a2b9447f379e4668028",
       "version_major": 2,
       "version_minor": 0
      },
      "text/plain": [
       "HBox(children=(IntProgress(value=0, description='data point', max=2420, style=ProgressStyle(description_width=…"
      ]
     },
     "metadata": {},
     "output_type": "display_data"
    },
    {
     "name": "stdout",
     "output_type": "stream",
     "text": [
      "\n",
      "--------\n",
      "Productivity: 0.486\n",
      "Coverage:     0.193\n"
     ]
    }
   ],
   "source": [
    "g = cues.TokenInClaimAndWarrant('not')\n",
    "g(train_o)\n",
    "g(train_n)"
   ]
  },
  {
   "cell_type": "code",
   "execution_count": 163,
   "metadata": {},
   "outputs": [
    {
     "data": {
      "application/vnd.jupyter.widget-view+json": {
       "model_id": "998904b90cba459e88b464eb711365bd",
       "version_major": 2,
       "version_minor": 0
      },
      "text/plain": [
       "HBox(children=(IntProgress(value=0, description='data point', max=1210, style=ProgressStyle(description_width=…"
      ]
     },
     "metadata": {},
     "output_type": "display_data"
    },
    {
     "name": "stdout",
     "output_type": "stream",
     "text": [
      "\n",
      "--------\n",
      "Productivity: 1.0\n",
      "Coverage:     0.001\n"
     ]
    },
    {
     "data": {
      "application/vnd.jupyter.widget-view+json": {
       "model_id": "2cdf8d75851849559be2c0f0577faac9",
       "version_major": 2,
       "version_minor": 0
      },
      "text/plain": [
       "HBox(children=(IntProgress(value=0, description='data point', max=2420, style=ProgressStyle(description_width=…"
      ]
     },
     "metadata": {},
     "output_type": "display_data"
    },
    {
     "name": "stdout",
     "output_type": "stream",
     "text": [
      "\n",
      "--------\n",
      "Productivity: 0.667\n",
      "Coverage:     0.001\n"
     ]
    }
   ],
   "source": [
    "g = cues.TokenInClaimAndWarrant('protect')\n",
    "g(train_o)\n",
    "g(train_n)"
   ]
  },
  {
   "cell_type": "code",
   "execution_count": 164,
   "metadata": {},
   "outputs": [
    {
     "data": {
      "application/vnd.jupyter.widget-view+json": {
       "model_id": "9717ff52ff0d473696c48f309262b62c",
       "version_major": 2,
       "version_minor": 0
      },
      "text/plain": [
       "HBox(children=(IntProgress(value=0, description='data point', max=1210, style=ProgressStyle(description_width=…"
      ]
     },
     "metadata": {},
     "output_type": "display_data"
    },
    {
     "name": "stdout",
     "output_type": "stream",
     "text": [
      "\n",
      "--------\n",
      "Productivity: 0.789\n",
      "Coverage:     0.016\n"
     ]
    },
    {
     "data": {
      "application/vnd.jupyter.widget-view+json": {
       "model_id": "15394878fe77442f8cc3376ea3e2cddb",
       "version_major": 2,
       "version_minor": 0
      },
      "text/plain": [
       "HBox(children=(IntProgress(value=0, description='data point', max=2420, style=ProgressStyle(description_width=…"
      ]
     },
     "metadata": {},
     "output_type": "display_data"
    },
    {
     "name": "stdout",
     "output_type": "stream",
     "text": [
      "\n",
      "--------\n",
      "Productivity: 0.586\n",
      "Coverage:     0.024\n"
     ]
    }
   ],
   "source": [
    "g = cues.TokenInClaimAndWarrant('do')\n",
    "g(train_o)\n",
    "g(train_n)"
   ]
  },
  {
   "cell_type": "code",
   "execution_count": 165,
   "metadata": {},
   "outputs": [
    {
     "data": {
      "application/vnd.jupyter.widget-view+json": {
       "model_id": "e5e187673fce47899337b359c835668c",
       "version_major": 2,
       "version_minor": 0
      },
      "text/plain": [
       "HBox(children=(IntProgress(value=0, description='data point', max=1210, style=ProgressStyle(description_width=…"
      ]
     },
     "metadata": {},
     "output_type": "display_data"
    },
    {
     "name": "stdout",
     "output_type": "stream",
     "text": [
      "\n",
      "--------\n",
      "Productivity: 0.667\n",
      "Coverage:     0.002\n"
     ]
    },
    {
     "data": {
      "application/vnd.jupyter.widget-view+json": {
       "model_id": "2939f0c96335448ea5104f3e53bc5ef0",
       "version_major": 2,
       "version_minor": 0
      },
      "text/plain": [
       "HBox(children=(IntProgress(value=0, description='data point', max=2420, style=ProgressStyle(description_width=…"
      ]
     },
     "metadata": {},
     "output_type": "display_data"
    },
    {
     "name": "stdout",
     "output_type": "stream",
     "text": [
      "\n",
      "--------\n",
      "Productivity: 0.667\n",
      "Coverage:     0.001\n"
     ]
    }
   ],
   "source": [
    "g = cues.TokenInClaimAndWarrant('protects')\n",
    "g(train_o)\n",
    "g(train_n)"
   ]
  },
  {
   "cell_type": "code",
   "execution_count": 170,
   "metadata": {},
   "outputs": [
    {
     "data": {
      "application/vnd.jupyter.widget-view+json": {
       "model_id": "03ab339b7e9542c1b3d75fcbc8f05e91",
       "version_major": 2,
       "version_minor": 0
      },
      "text/plain": [
       "HBox(children=(IntProgress(value=0, description='data point', max=1210, style=ProgressStyle(description_width=…"
      ]
     },
     "metadata": {},
     "output_type": "display_data"
    },
    {
     "name": "stdout",
     "output_type": "stream",
     "text": [
      "\n",
      "--------\n",
      "Productivity: 1.0\n",
      "Coverage:     0.001\n"
     ]
    },
    {
     "data": {
      "application/vnd.jupyter.widget-view+json": {
       "model_id": "feb4cadac480475cb1e4a9fa0f625637",
       "version_major": 2,
       "version_minor": 0
      },
      "text/plain": [
       "HBox(children=(IntProgress(value=0, description='data point', max=2420, style=ProgressStyle(description_width=…"
      ]
     },
     "metadata": {},
     "output_type": "display_data"
    },
    {
     "name": "stdout",
     "output_type": "stream",
     "text": [
      "\n",
      "--------\n",
      "Productivity: 0.286\n",
      "Coverage:     0.003\n"
     ]
    }
   ],
   "source": [
    "g = cues.TokenInClaimAndWarrant('does')\n",
    "g(train_o)\n",
    "g(train_n)"
   ]
  },
  {
   "cell_type": "code",
   "execution_count": 171,
   "metadata": {},
   "outputs": [
    {
     "data": {
      "application/vnd.jupyter.widget-view+json": {
       "model_id": "1f1929da43cd49e8b3d2a0dce85b7374",
       "version_major": 2,
       "version_minor": 0
      },
      "text/plain": [
       "HBox(children=(IntProgress(value=0, description='data point', max=1210, style=ProgressStyle(description_width=…"
      ]
     },
     "metadata": {},
     "output_type": "display_data"
    },
    {
     "name": "stdout",
     "output_type": "stream",
     "text": [
      "\n",
      "--------\n",
      "Productivity: 1.0\n",
      "Coverage:     0.001\n"
     ]
    },
    {
     "data": {
      "application/vnd.jupyter.widget-view+json": {
       "model_id": "b7ca5005a01c4718b5c8db52706ef34a",
       "version_major": 2,
       "version_minor": 0
      },
      "text/plain": [
       "HBox(children=(IntProgress(value=0, description='data point', max=2420, style=ProgressStyle(description_width=…"
      ]
     },
     "metadata": {},
     "output_type": "display_data"
    },
    {
     "name": "stdout",
     "output_type": "stream",
     "text": [
      "\n",
      "--------\n",
      "Productivity: 1.0\n",
      "Coverage:     0.0\n"
     ]
    }
   ],
   "source": [
    "g = cues.TokenInClaimAndWarrant('ca')\n",
    "g(train_o)\n",
    "g(train_n)"
   ]
  },
  {
   "cell_type": "code",
   "execution_count": 172,
   "metadata": {},
   "outputs": [
    {
     "data": {
      "application/vnd.jupyter.widget-view+json": {
       "model_id": "fbf2b85a0a344fbe980096906a6ee956",
       "version_major": 2,
       "version_minor": 0
      },
      "text/plain": [
       "HBox(children=(IntProgress(value=0, description='data point', max=1210, style=ProgressStyle(description_width=…"
      ]
     },
     "metadata": {},
     "output_type": "display_data"
    },
    {
     "name": "stdout",
     "output_type": "stream",
     "text": [
      "\n",
      "--------\n",
      "Productivity: 1.0\n",
      "Coverage:     0.001\n"
     ]
    },
    {
     "data": {
      "application/vnd.jupyter.widget-view+json": {
       "model_id": "3d89f52a13c047aaaf20123b51b28680",
       "version_major": 2,
       "version_minor": 0
      },
      "text/plain": [
       "HBox(children=(IntProgress(value=0, description='data point', max=2420, style=ProgressStyle(description_width=…"
      ]
     },
     "metadata": {},
     "output_type": "display_data"
    },
    {
     "name": "stdout",
     "output_type": "stream",
     "text": [
      "\n",
      "--------\n",
      "Productivity: 1.0\n",
      "Coverage:     0.0\n"
     ]
    }
   ],
   "source": [
    "g = cues.TokenInClaimAndWarrant('always')\n",
    "g(train_o)\n",
    "g(train_n)"
   ]
  },
  {
   "cell_type": "code",
   "execution_count": 173,
   "metadata": {},
   "outputs": [
    {
     "data": {
      "application/vnd.jupyter.widget-view+json": {
       "model_id": "dc7cd115336247ebace4c290373f1fcc",
       "version_major": 2,
       "version_minor": 0
      },
      "text/plain": [
       "HBox(children=(IntProgress(value=0, description='data point', max=1210, style=ProgressStyle(description_width=…"
      ]
     },
     "metadata": {},
     "output_type": "display_data"
    },
    {
     "name": "stdout",
     "output_type": "stream",
     "text": [
      "\n",
      "--------\n",
      "Productivity: 1.0\n",
      "Coverage:     0.001\n"
     ]
    },
    {
     "data": {
      "application/vnd.jupyter.widget-view+json": {
       "model_id": "b17f0265885a4c0fac253d5b2440a958",
       "version_major": 2,
       "version_minor": 0
      },
      "text/plain": [
       "HBox(children=(IntProgress(value=0, description='data point', max=2420, style=ProgressStyle(description_width=…"
      ]
     },
     "metadata": {},
     "output_type": "display_data"
    },
    {
     "name": "stdout",
     "output_type": "stream",
     "text": [
      "\n",
      "--------\n",
      "Productivity: 1.0\n",
      "Coverage:     0.0\n"
     ]
    }
   ],
   "source": [
    "g = cues.TokenInClaimAndWarrant('rarely')\n",
    "g(train_o)\n",
    "g(train_n)"
   ]
  },
  {
   "cell_type": "code",
   "execution_count": 174,
   "metadata": {},
   "outputs": [
    {
     "data": {
      "application/vnd.jupyter.widget-view+json": {
       "model_id": "04f3b9a75b944de3bb4fb1af13d4a4c8",
       "version_major": 2,
       "version_minor": 0
      },
      "text/plain": [
       "HBox(children=(IntProgress(value=0, description='data point', max=1210, style=ProgressStyle(description_width=…"
      ]
     },
     "metadata": {},
     "output_type": "display_data"
    },
    {
     "name": "stdout",
     "output_type": "stream",
     "text": [
      "\n",
      "--------\n",
      "Productivity: 0.875\n",
      "Coverage:     0.02\n"
     ]
    },
    {
     "data": {
      "application/vnd.jupyter.widget-view+json": {
       "model_id": "e105ea3fd92048f3a61166735e837566",
       "version_major": 2,
       "version_minor": 0
      },
      "text/plain": [
       "HBox(children=(IntProgress(value=0, description='data point', max=2420, style=ProgressStyle(description_width=…"
      ]
     },
     "metadata": {},
     "output_type": "display_data"
    },
    {
     "name": "stdout",
     "output_type": "stream",
     "text": [
      "\n",
      "--------\n",
      "Productivity: 0.875\n",
      "Coverage:     0.01\n"
     ]
    }
   ],
   "source": [
    "g = cues.TokenInClaimAndWarrant(\"n't\")\n",
    "g(train_o)\n",
    "g(train_n)"
   ]
  },
  {
   "cell_type": "code",
   "execution_count": null,
   "metadata": {},
   "outputs": [],
   "source": []
  }
 ],
 "metadata": {
  "kernelspec": {
   "display_name": "nn",
   "language": "python",
   "name": "nn"
  },
  "language_info": {
   "codemirror_mode": {
    "name": "ipython",
    "version": 3
   },
   "file_extension": ".py",
   "mimetype": "text/x-python",
   "name": "python",
   "nbconvert_exporter": "python",
   "pygments_lexer": "ipython3",
   "version": "3.7.2"
  }
 },
 "nbformat": 4,
 "nbformat_minor": 2
}
